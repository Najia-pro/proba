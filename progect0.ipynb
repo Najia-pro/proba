{
 "cells": [
  {
   "cell_type": "code",
   "execution_count": null,
   "metadata": {},
   "outputs": [],
   "source": [
    "import numpy as np\n",
    "def game_core_v3(number):\n",
    "    a=0\n",
    "    b=100\n",
    "    count=1\n",
    "    predict = np.random.randint(1,101)\n",
    "    while number != predict:\n",
    "        count+=1\n",
    "        predict=(b-a)//2+a\n",
    "        if number > predict: \n",
    "            a=predict\n",
    "        elif number < predict: \n",
    "            b=predict\n",
    "        else:\n",
    "            break\n",
    "    return(count)\n",
    "\n",
    "def score_game(game_core):\n",
    "    count_ls = []\n",
    "    np.random.seed(1)  # фиксируем RANDOM SEED, чтобы ваш эксперимент был воспроизводим!\n",
    "    random_array = np.random.randint(1,101, size=(100))\n",
    "    for number in random_array:\n",
    "        counter = game_core(number)\n",
    "        count_ls.append(counter)\n",
    "    score = int(np.mean(count_ls))\n",
    "    return(score)\n",
    "\n",
    "list_var=[]\n",
    "for i in range(10):\n",
    "    random_array =[]\n",
    "    var=score_game(game_core_v3)\n",
    "    list_var.append(var)\n",
    "    var1=int(np.mean(list_var))\n",
    "print(f\"Ваш алгоритм угадывает число в среднем за {var1} попыток\")"
   ]
  }
 ],
 "metadata": {
  "kernelspec": {
   "display_name": "Python 3",
   "language": "python",
   "name": "python3"
  },
  "language_info": {
   "codemirror_mode": {
    "name": "ipython",
    "version": 3
   },
   "file_extension": ".py",
   "mimetype": "text/x-python",
   "name": "python",
   "nbconvert_exporter": "python",
   "pygments_lexer": "ipython3",
   "version": "3.7.6"
  }
 },
 "nbformat": 4,
 "nbformat_minor": 4
}
