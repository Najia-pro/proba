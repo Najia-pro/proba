{
 "cells": [
  {
   "cell_type": "markdown",
   "metadata": {},
   "source": [
    "## Проект 0. Самый быстрый гид. \n",
    "\n",
    "## Данный алгоритм в среднем угадывает искомое число за 6 попыток.\n",
    "\n",
    "#### Задача: написать код, который отгадывает загаданное число от 1 до 100 за минимальное число шагов.\n",
    "\n",
    "#### Алгоритм, заложенный в решении: загаданное число задается функцией random. Предполагаемое число для угадывания - это половина от самого большого и самого маленького числа искомого диапазона. Первая попытка это - 50. Если число больше, то искомый диапазон - от 50 до 100. Если меньше, то искомый диапазон от 1 до 50. И т.д. последовательным приближением, отбрасыванием половины диапазона, ищется искомое число. Этот алгоритм задан функцией game_core_v3.\n",
    "\n",
    "#### Функция score_game - это счетчик на 100 вариантов. На выходе дает среднее число итераций для угадывания числа за 100 раз.\n",
    "\n",
    "#### Тело программы запускает весь механизм 10 раз, чтобы выйти на 1000 экспериментов. И выдает среднее число попыток за 1000 раз. Я разбила 10 по 100, т.к. впрямую 1000 раз считается долго, а вариант 10 по 100 считается быстро. \n",
    "\n"
   ]
  },
  {
   "cell_type": "code",
   "execution_count": 2,
   "metadata": {},
   "outputs": [
    {
     "name": "stdout",
     "output_type": "stream",
     "text": [
      "Ваш алгоритм угадывает число в среднем за 6 попыток\n"
     ]
    }
   ],
   "source": [
    "import numpy as np\n",
    "def game_core_v3(number):\n",
    "    low=1 # нижняя граница начального диапазона\n",
    "    hi=100 # верхняя граница начального диапазона\n",
    "    count=1 # счетчик попыток\n",
    "    predict = np.random.randint(1,101) # задаваемое случайным образом число, в попытке отгадать загаданное число\n",
    "    while number != predict:\n",
    "        count+=1\n",
    "        predict=(hi-low)//2+low # переназначение числа для следующей попытки\n",
    "        if number > predict: \n",
    "            low=predict\n",
    "        elif number < predict: \n",
    "            hi=predict\n",
    "        else:\n",
    "            break\n",
    "    return(count)\n",
    "\n",
    "def score_game(game_core):\n",
    "    count_ls = []\n",
    "    np.random.seed(1)  # фиксируем RANDOM SEED, чтобы ваш эксперимент был воспроизводим!\n",
    "    random_array = np.random.randint(1,101, size=(100)) # формируем случайным образом список из 100 чисел от 1 до 100\n",
    "    for number in random_array:\n",
    "        counter = game_core(number)\n",
    "        count_ls.append(counter) # формируем список числа попыток, полученных из 100 экспериментов\n",
    "    score = int(np.mean(count_ls)) # определяем среднее число попыток\n",
    "    return(score)\n",
    "\n",
    "list_var=[]\n",
    "for i in range(10):\n",
    "    var=score_game(game_core_v3)\n",
    "    list_var.append(var)\n",
    "    var1=int(np.mean(list_var))\n",
    "print(f\"Ваш алгоритм угадывает число в среднем за {var1} попыток\")"
   ]
  },
  {
   "cell_type": "code",
   "execution_count": null,
   "metadata": {},
   "outputs": [],
   "source": []
  }
 ],
 "metadata": {
  "kernelspec": {
   "display_name": "Python 3",
   "language": "python",
   "name": "python3"
  },
  "language_info": {
   "codemirror_mode": {
    "name": "ipython",
    "version": 3
   },
   "file_extension": ".py",
   "mimetype": "text/x-python",
   "name": "python",
   "nbconvert_exporter": "python",
   "pygments_lexer": "ipython3",
   "version": "3.7.6"
  }
 },
 "nbformat": 4,
 "nbformat_minor": 4
}
