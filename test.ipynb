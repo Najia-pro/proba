{
 "cells": [
  {
   "cell_type": "code",
   "execution_count": 1,
   "metadata": {},
   "outputs": [
    {
     "ename": "FileNotFoundError",
     "evalue": "[Errno 2] No such file or directory: 'case6.json'",
     "output_type": "error",
     "traceback": [
      "\u001b[1;31m---------------------------------------------------------------------------\u001b[0m",
      "\u001b[1;31mFileNotFoundError\u001b[0m                         Traceback (most recent call last)",
      "\u001b[1;32m<ipython-input-1-339e6639fd4a>\u001b[0m in \u001b[0;36m<module>\u001b[1;34m\u001b[0m\n\u001b[0;32m      1\u001b[0m \u001b[1;32mimport\u001b[0m \u001b[0mjson\u001b[0m\u001b[1;33m\u001b[0m\u001b[1;33m\u001b[0m\u001b[0m\n\u001b[0;32m      2\u001b[0m \u001b[0mfile_path\u001b[0m \u001b[1;33m=\u001b[0m \u001b[1;34m'case6.json'\u001b[0m\u001b[1;33m\u001b[0m\u001b[1;33m\u001b[0m\u001b[0m\n\u001b[1;32m----> 3\u001b[1;33m \u001b[1;32mwith\u001b[0m \u001b[0mopen\u001b[0m\u001b[1;33m(\u001b[0m\u001b[0mfile_path\u001b[0m\u001b[1;33m,\u001b[0m \u001b[1;34m'rb'\u001b[0m\u001b[1;33m)\u001b[0m \u001b[1;32mas\u001b[0m \u001b[0mf\u001b[0m\u001b[1;33m:\u001b[0m\u001b[1;33m\u001b[0m\u001b[1;33m\u001b[0m\u001b[0m\n\u001b[0m\u001b[0;32m      4\u001b[0m     \u001b[0mdata\u001b[0m \u001b[1;33m=\u001b[0m \u001b[0mjson\u001b[0m\u001b[1;33m.\u001b[0m\u001b[0mload\u001b[0m\u001b[1;33m(\u001b[0m\u001b[0mf\u001b[0m\u001b[1;33m)\u001b[0m\u001b[1;33m\u001b[0m\u001b[1;33m\u001b[0m\u001b[0m\n\u001b[0;32m      5\u001b[0m \u001b[1;33m\u001b[0m\u001b[0m\n",
      "\u001b[1;31mFileNotFoundError\u001b[0m: [Errno 2] No such file or directory: 'case6.json'"
     ]
    }
   ],
   "source": [
    "import json \n",
    "file_path = 'case6.json'\n",
    "with open(file_path, 'rb') as f:\n",
    "    data = json.load(f)\n",
    "\n",
    "users_target = []\n",
    "for event in data:\n",
    "    if event['event_type'] == 'target_event':\n",
    "        user_id = event['user_id']\n",
    "        users_target.append(user_id)\n",
    "print('Общее число целевых действий:', len(users_target))\n",
    "\n",
    "from collections import Counter\n",
    "users_target_counter = Counter(users_target)\n",
    "\n",
    "count_of_target_values_by_users = []\n",
    "for tt in users_target_counter.values():\n",
    "    count_of_target_values_by_users.append(tt)\n",
    "print('Общее число целевых пользователей:', len(count_of_target_values_by_users))\n",
    "print()\n",
    "\n",
    "def getEventsStats(x):\n",
    "    event_counter = Counter(x)\n",
    "    all_events_count = sum(event_counter.values())\n",
    "    for event_type in event_counter.keys():\n",
    "        events_count = event_counter[event_type]\n",
    "        events_count_share = events_count / all_events_count\n",
    "        events_count_share_2 = (event_type * events_count) / (len(users_target))\n",
    "        print ('Количество целевых пользователей с числом целевых действий {}: {}'.format(event_type,events_count))\n",
    "        print ('Процент этих пользователей от общего числа целевых пользователей {}: {:.2%}'.format(event_type,events_count_share))\n",
    "        print ('Процент этих целевых действий от общего числа целевых действий {}: {:.2%}'.format(event_type,events_count_share_2))\n",
    "        print ()\n",
    "getEventsStats(count_of_target_values_by_users)\n",
    "\n",
    "event_counter = Counter(count_of_target_values_by_users)\n",
    "all_events_count = sum(event_counter.values())\n",
    "events_count = event_counter[1]\n",
    "events_count_share = events_count / all_events_count\n",
    "events_count_share_1 = 1 - events_count_share\n",
    "events_count_share_2 = events_count / (len(users_target))\n",
    "events_count_share_3 = 1 - events_count_share_2\n",
    "print ('Процент пользователей c одним действием от общего числа целевых пользователей: {:.2%}'.format(events_count_share))\n",
    "print ('Процент целевых действий, совершенных пользователями с одним целевым действием: {:.2%}'.format(events_count_share_2))\n",
    "print ()\n",
    "print ('Процент пользователей c более, чем одним действием от общего числа целевых пользователей: {:.2%}'.format(events_count_share_1))\n",
    "print ('Процент целевых действий с более, чем одним действием от общего числа целевых действий: {:.2%}'.format(events_count_share_3))\n",
    "print ()"
   ]
  },
  {
   "cell_type": "markdown",
   "metadata": {},
   "source": [
    "У нас была сформулирована следующая гипотеза - основной объем закупок обеспечивает одна какая-то часть пользователей. Мы взяли в качестве исследования группу пользователей, которая совершила более, чем одну покупку. И оказалось, что эта группа составляет 17,55% от целевых пользователей и обеспечивает при этом почти половину целевых действий - 47,63%.\n",
    "Это подтверждает гипотезу о том, что эти пользователи более активны в формировании объема покупок. Я бы на основной вопрос ответила так: повторные целевые клиенты это наш золотой фонд, его надо поддерживать. А целевых клиентов, совершивших одну покупку надо пытаться превращать в повторных. И отделу маркетинга нужно на это обратить внимание."
   ]
  }
 ],
 "metadata": {
  "kernelspec": {
   "display_name": "Python 3",
   "language": "python",
   "name": "python3"
  },
  "language_info": {
   "codemirror_mode": {
    "name": "ipython",
    "version": 3
   },
   "file_extension": ".py",
   "mimetype": "text/x-python",
   "name": "python",
   "nbconvert_exporter": "python",
   "pygments_lexer": "ipython3",
   "version": "3.7.6"
  },
  "widgets": {
   "application/vnd.jupyter.widget-state+json": {
    "state": {},
    "version_major": 2,
    "version_minor": 0
   }
  }
 },
 "nbformat": 4,
 "nbformat_minor": 4
}
